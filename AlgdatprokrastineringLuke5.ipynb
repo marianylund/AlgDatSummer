{
 "cells": [
  {
   "cell_type": "code",
   "execution_count": 41,
   "metadata": {},
   "outputs": [
    {
     "name": "stdout",
     "output_type": "stream",
     "text": [
      "2\n",
      "5857\n"
     ]
    }
   ],
   "source": [
    "from itertools import product\n",
    "\n",
    "def findExpressions(liste, goal, possibilities):\n",
    "    perm = list(product(possibilities, repeat=len(liste)-1))\n",
    "    numEx = 0\n",
    "    \n",
    "    for p in list(perm):\n",
    "        expressionSoFar = str(liste[0])\n",
    "        \n",
    "        for i in range(1, len(liste)):    \n",
    "            expressionSoFar += p[i-1] + str(liste[i])\n",
    "            \n",
    "        if(eval(expressionSoFar) == goal):\n",
    "            numEx += 1\n",
    "    print(numEx)\n",
    "\n",
    "## Example:\n",
    "numbers = [1, 2, 3, 4, 5, 6, 7]\n",
    "poss = [\"\", \"-\", \"+\"]\n",
    "\n",
    "findExpressions(numbers, 42, poss)\n",
    "\n",
    "## task\n",
    "numbersLong = [1, 2, 3, 4, 5, 6, 7, 8, 7, 6, 5, 4, 3, 2, 1]\n",
    "findExpressions(numbersLong, 42, poss)"
   ]
  },
  {
   "cell_type": "code",
   "execution_count": null,
   "metadata": {},
   "outputs": [],
   "source": []
  }
 ],
 "metadata": {
  "kernelspec": {
   "display_name": "Python 3",
   "language": "python",
   "name": "python3"
  },
  "language_info": {
   "codemirror_mode": {
    "name": "ipython",
    "version": 3
   },
   "file_extension": ".py",
   "mimetype": "text/x-python",
   "name": "python",
   "nbconvert_exporter": "python",
   "pygments_lexer": "ipython3",
   "version": "3.6.5"
  }
 },
 "nbformat": 4,
 "nbformat_minor": 2
}
